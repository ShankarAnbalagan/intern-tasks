{
 "cells": [
  {
   "cell_type": "code",
   "execution_count": 38,
   "metadata": {},
   "outputs": [],
   "source": [
    "import cv2\n",
    "import pytesseract as pyt\n",
    "from selenium import webdriver"
   ]
  },
  {
   "cell_type": "code",
   "execution_count": null,
   "metadata": {},
   "outputs": [],
   "source": [
    "options= webdriver.ChromeOptions()\n",
    "options.add_argument('--headless')\n",
    "options.add_argument('window-size=1200x600')\n",
    "driver = webdriver.Chrome(options=options)\n",
    "#driver = webdriver.Chrome()\n",
    "driver.get('https://www.facebook.com/Sony/')\n",
    "driver.execute_script(\"window.scrollTo(0, 300)\")\n",
    "driver.save_screenshot('data/page.png')\n",
    "driver.close()"
   ]
  },
  {
   "cell_type": "code",
   "execution_count": 93,
   "metadata": {},
   "outputs": [
    {
     "name": "stdout",
     "output_type": "stream",
     "text": [
      "whe 32,877,320 wiaich aria, wai we,oe,S\n",
      "3) 32,958,898 wiaich aciah, exbrO gong\n",
      "Q 95,060 ee-aare\n",
      "\n",
      "  \n",
      "\n",
      "13) QRH), Nol®\n",
      "\n",
      "2) ENS Ok lesa oL i\n"
     ]
    }
   ],
   "source": [
    "im=cv2.imread(r'data/page.png')\n",
    "crop_im=im[200:600,600:1500]\n",
    "print(pyt.image_to_string(crop_im))"
   ]
  }
 ],
 "metadata": {
  "kernelspec": {
   "display_name": "Python 3",
   "language": "python",
   "name": "python3"
  },
  "language_info": {
   "codemirror_mode": {
    "name": "ipython",
    "version": 3
   },
   "file_extension": ".py",
   "mimetype": "text/x-python",
   "name": "python",
   "nbconvert_exporter": "python",
   "pygments_lexer": "ipython3",
   "version": "3.6.8"
  }
 },
 "nbformat": 4,
 "nbformat_minor": 2
}

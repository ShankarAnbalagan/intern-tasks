{
 "cells": [
  {
   "cell_type": "code",
   "execution_count": 1,
   "metadata": {},
   "outputs": [],
   "source": [
    "import urllib.request as urlreq\n",
    "import json\n",
    "import re"
   ]
  },
  {
   "cell_type": "code",
   "execution_count": 6,
   "metadata": {},
   "outputs": [],
   "source": [
    "def httpGet(obj_id,params):\n",
    "    #SamplePage Access Token\n",
    "    user_access_token='access_token=EAACh2NCzzXIBAOIup9ZCK9yMwN1cpa8DkkunRomDJCrFMhTl4b9BgdgUSMXgZCYaeOfZBXJLMwX6aSe944iGiJIDp9aki8lRXysn2HHx9J7t5fUrR2W7EJvbeQdkeZAJbm4xr64pjprGu1ZCvZCFPi3SPXGbjfFLZBerNiZAnAufhSDRbZAaCSV4IFKyr6TJy3yr5DjIZAFFDDUQZDZD'\n",
    "    host='https://graph.facebook.com/'\n",
    "    queries='fields='+params\n",
    "    fb_url=host+obj_id+'?'+queries+'&'+user_access_token\n",
    "    #print(fb_url)\n",
    "    response=urlreq.urlopen(fb_url).read()\n",
    "    response=json.loads(response.decode('utf-8'))\n",
    "    #print(response)\n",
    "    return response"
   ]
  },
  {
   "cell_type": "code",
   "execution_count": 7,
   "metadata": {},
   "outputs": [
    {
     "name": "stdout",
     "output_type": "stream",
     "text": [
      "[{'created_time': '2019-05-14T14:41:35+0000', 'message': 'Hello World', 'id': '328682464436823_328682954436774'}]\n"
     ]
    }
   ],
   "source": [
    "if __name__=='__main__':\n",
    "    comments_file=open('comment_data.txt','w')\n",
    "    \n",
    "    #PageID of SamplePage           https://www.facebook.com/SamplePage-328682464436823/\n",
    "    page_id='328682464436823'\n",
    "    \n",
    "    \n",
    "    response=httpGet(page_id,'posts')\n",
    "    all_posts=response['posts']['data']\n",
    "    print(all_posts)"
   ]
  },
  {
   "cell_type": "code",
   "execution_count": 8,
   "metadata": {},
   "outputs": [
    {
     "name": "stdout",
     "output_type": "stream",
     "text": [
      "Multi Line Comment\n",
      "\n",
      "Comment 1\n",
      "\n",
      "Sample comment\n",
      "\n"
     ]
    }
   ],
   "source": [
    "for post in all_posts:\n",
    "    all_comments=httpGet(post['id'],'comments')['comments']['data']\n",
    "    for comment in all_comments:\n",
    "        temp=comment['message']\n",
    "        temp=re.sub('\\n',' ',temp)\n",
    "        print(temp+'\\n')\n",
    "        comments_file.write(temp+'\\n')\n",
    "\n",
    "comments_file.close()"
   ]
  }
 ],
 "metadata": {
  "kernelspec": {
   "display_name": "Python 3",
   "language": "python",
   "name": "python3"
  },
  "language_info": {
   "codemirror_mode": {
    "name": "ipython",
    "version": 3
   },
   "file_extension": ".py",
   "mimetype": "text/x-python",
   "name": "python",
   "nbconvert_exporter": "python",
   "pygments_lexer": "ipython3",
   "version": "3.6.8"
  }
 },
 "nbformat": 4,
 "nbformat_minor": 2
}

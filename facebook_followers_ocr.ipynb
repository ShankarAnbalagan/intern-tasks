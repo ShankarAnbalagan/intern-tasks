{
 "cells": [
  {
   "cell_type": "code",
   "execution_count": 1,
   "metadata": {},
   "outputs": [],
   "source": [
    "import cv2\n",
    "import pytesseract as pyt\n",
    "from selenium import webdriver"
   ]
  },
  {
   "cell_type": "code",
   "execution_count": 39,
   "metadata": {},
   "outputs": [],
   "source": [
    "options= webdriver.ChromeOptions()\n",
    "#options.add_argument('headless')\n",
    "options.add_argument('window-size=1200x600')\n",
    "options.add_argument('incognito')\n",
    "driver = webdriver.Chrome(options=options)\n",
    "\n",
    "\n",
    "#Replace this string with the url of the facebook page whose follower count you need\n",
    "url='https://www.facebook.com/Sony/'\n",
    "\n",
    "driver.get(url)\n",
    "driver.execute_script(\"window.scrollTo(0, 300)\")\n",
    "driver.save_screenshot('data/page.png')\n",
    "driver.close()"
   ]
  },
  {
   "cell_type": "code",
   "execution_count": 40,
   "metadata": {},
   "outputs": [
    {
     "name": "stdout",
     "output_type": "stream",
     "text": [
      "Robbie discuss bringing 1969\n",
      "\n",
      " \n",
      "\n",
      "Community See all\n",
      "\n",
      "if 7,890,850 people like this\n",
      "}) 7,818,854 people follow this\n",
      "\n",
      "About See all\n",
      "@ _wwwsony.com\n",
      "\n",
      "(1 Brand - Company\n",
      "\n",
      "© Page Transparency See More\n",
      "\n",
      "Facebook is showing information to help you better,\n",
      "understand the purpose of a Page. See actions taken by\n",
      "the people who manage and post content.\n",
      "\n",
      "80) Pace created — 19 February 2009\n"
     ]
    }
   ],
   "source": [
    "im=cv2.imread(r'data/page.png')\n",
    "crop_im=im[200:600,600:1500]\n",
    "raw_ocr_data=pyt.image_to_string(crop_im)\n",
    "print(raw_ocr_data)"
   ]
  },
  {
   "cell_type": "code",
   "execution_count": 41,
   "metadata": {},
   "outputs": [
    {
     "name": "stdout",
     "output_type": "stream",
     "text": [
      "['Robbie discuss bringing 1969', '', ' ', '', 'Community See all', '', 'if 7,890,850 people like this', '}) 7,818,854 people follow this', '', 'About See all', '@ _wwwsony.com', '', '(1 Brand - Company', '', '© Page Transparency See More', '', 'Facebook is showing information to help you better,', 'understand the purpose of a Page. See actions taken by', 'the people who manage and post content.', '', '80) Pace created — 19 February 2009']\n"
     ]
    }
   ],
   "source": [
    "raw_ocr_data=raw_ocr_data.split('\\n')\n",
    "print(raw_ocr_data)"
   ]
  },
  {
   "cell_type": "code",
   "execution_count": 45,
   "metadata": {
    "scrolled": true
   },
   "outputs": [
    {
     "name": "stdout",
     "output_type": "stream",
     "text": [
      "7,818,854 people follow this\n"
     ]
    }
   ],
   "source": [
    "import re\n",
    "\n",
    "for raw_data in raw_ocr_data:\n",
    "    if len(re.findall('follow',raw_data)) != 0:\n",
    "        follower_string=raw_data\n",
    "        break\n",
    "        \n",
    "temp=follower_string\n",
    "follower_string=''\n",
    "\n",
    "for c in temp:\n",
    "    if c.isalnum() or c==',' or c==' ':\n",
    "        follower_string+=c\n",
    "follower_string=follower_string.strip()\n",
    "print(follower_string)"
   ]
  }
 ],
 "metadata": {
  "kernelspec": {
   "display_name": "Python 3",
   "language": "python",
   "name": "python3"
  },
  "language_info": {
   "codemirror_mode": {
    "name": "ipython",
    "version": 3
   },
   "file_extension": ".py",
   "mimetype": "text/x-python",
   "name": "python",
   "nbconvert_exporter": "python",
   "pygments_lexer": "ipython3",
   "version": "3.6.8"
  }
 },
 "nbformat": 4,
 "nbformat_minor": 2
}

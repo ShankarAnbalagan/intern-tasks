{
 "cells": [
  {
   "cell_type": "code",
   "execution_count": 1,
   "metadata": {},
   "outputs": [],
   "source": [
    "import cv2\n",
    "import pytesseract as pyt\n",
    "from selenium import webdriver"
   ]
  },
  {
   "cell_type": "code",
   "execution_count": 15,
   "metadata": {},
   "outputs": [],
   "source": [
    "options= webdriver.ChromeOptions()\n",
    "options.add_argument('headless')\n",
    "options.add_argument('window-size=1200x600')\n",
    "driver = webdriver.Chrome(options=options)\n",
    "#driver = webdriver.Chrome()\n",
    "driver.get('https://www.facebook.com/BengaluruFootballClub/')\n",
    "driver.execute_script(\"window.scrollTo(0, 300)\")\n",
    "driver.save_screenshot('data/page.png')\n",
    "driver.close()"
   ]
  },
  {
   "cell_type": "code",
   "execution_count": 16,
   "metadata": {},
   "outputs": [
    {
     "name": "stdout",
     "output_type": "stream",
     "text": [
      "we 335,221 aac aciah, wal WEES\n",
      "\n",
      "3) 335,806 ssakch aciah, embRom gong\n",
      "\n",
      " \n",
      "\n",
      "BOS.\n",
      "\n",
      "erpiaia, Sates\n",
      "\n",
      "© bengalurufe com\n",
      "\n",
      "[3 ates dod\n",
      "\n",
      " \n",
      "\n",
      "© 38 wsasrds\n",
      "\n",
      " \n",
      "\n",
      " \n",
      "\n",
      "> HOS) QB Wd, Boers\n",
      "\n",
      "2) ENO Ok leat)\n"
     ]
    }
   ],
   "source": [
    "im=cv2.imread(r'data/page.png')\n",
    "crop_im=im[200:600,600:1500]\n",
    "print(pyt.image_to_string(crop_im))"
   ]
  }
 ],
 "metadata": {
  "kernelspec": {
   "display_name": "Python 3",
   "language": "python",
   "name": "python3"
  },
  "language_info": {
   "codemirror_mode": {
    "name": "ipython",
    "version": 3
   },
   "file_extension": ".py",
   "mimetype": "text/x-python",
   "name": "python",
   "nbconvert_exporter": "python",
   "pygments_lexer": "ipython3",
   "version": "3.6.8"
  }
 },
 "nbformat": 4,
 "nbformat_minor": 2
}
